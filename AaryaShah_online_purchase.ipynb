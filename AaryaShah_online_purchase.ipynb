{
  "cells": [
    {
      "cell_type": "markdown",
      "metadata": {},
      "source": [
        "# Project 4: Predicting Online Purchase Intent: A KNN-Based Approach to Customer Behaviour\n",
        "\n",
        "# 23AIML064 - Aarya Shah\n",
        "\n"
      ]
    },
    {
      "cell_type": "markdown",
      "metadata": {},
      "source": [
        "### Goal - The main goal of this project is to build a machine learning model that can predict whether a visitor to an e-commerce website will make a purchase."
      ]
    },
    {
      "cell_type": "code",
      "execution_count": null,
      "metadata": {
        "id": "oXqHibGKwq8i"
      },
      "outputs": [],
      "source": [
        "# Importing Necessary Libraries\n",
        "\n",
        "import pandas as pd\n",
        "import numpy as np\n",
        "import seaborn as sns\n",
        "import matplotlib.pyplot as plt\n",
        "from sklearn.preprocessing import StandardScaler, LabelEncoder\n",
        "from sklearn.model_selection import train_test_split, cross_val_score\n",
        "from sklearn.decomposition import PCA\n",
        "from sklearn.linear_model import LogisticRegression\n",
        "from sklearn.ensemble import RandomForestClassifier\n",
        "from sklearn.tree import DecisionTreeClassifier\n",
        "from sklearn.neighbors import KNeighborsClassifier\n",
        "from imblearn.over_sampling import SMOTE\n",
        "from sklearn.metrics import accuracy_score, confusion_matrix, classification_report, roc_auc_score"
      ]
    },
    {
      "cell_type": "markdown",
      "metadata": {},
      "source": [
        "## Loading and Exploring the Data"
      ]
    },
    {
      "cell_type": "code",
      "execution_count": 4,
      "metadata": {
        "colab": {
          "base_uri": "https://localhost:8080/",
          "height": 226
        },
        "id": "VjYlEzfWxPFS",
        "outputId": "efebea2d-3054-42c6-c024-16d9770bf600"
      },
      "outputs": [
        {
          "data": {
            "text/html": [
              "<div>\n",
              "<style scoped>\n",
              "    .dataframe tbody tr th:only-of-type {\n",
              "        vertical-align: middle;\n",
              "    }\n",
              "\n",
              "    .dataframe tbody tr th {\n",
              "        vertical-align: top;\n",
              "    }\n",
              "\n",
              "    .dataframe thead th {\n",
              "        text-align: right;\n",
              "    }\n",
              "</style>\n",
              "<table border=\"1\" class=\"dataframe\">\n",
              "  <thead>\n",
              "    <tr style=\"text-align: right;\">\n",
              "      <th></th>\n",
              "      <th>Administrative</th>\n",
              "      <th>Administrative_Duration</th>\n",
              "      <th>Informational</th>\n",
              "      <th>Informational_Duration</th>\n",
              "      <th>ProductRelated</th>\n",
              "      <th>ProductRelated_Duration</th>\n",
              "      <th>BounceRates</th>\n",
              "      <th>ExitRates</th>\n",
              "      <th>PageValues</th>\n",
              "      <th>SpecialDay</th>\n",
              "      <th>Month</th>\n",
              "      <th>OperatingSystems</th>\n",
              "      <th>Browser</th>\n",
              "      <th>Region</th>\n",
              "      <th>TrafficType</th>\n",
              "      <th>VisitorType</th>\n",
              "      <th>Weekend</th>\n",
              "      <th>Revenue</th>\n",
              "    </tr>\n",
              "  </thead>\n",
              "  <tbody>\n",
              "    <tr>\n",
              "      <th>0</th>\n",
              "      <td>0</td>\n",
              "      <td>0.0</td>\n",
              "      <td>0</td>\n",
              "      <td>0.0</td>\n",
              "      <td>1</td>\n",
              "      <td>0.000000</td>\n",
              "      <td>0.20</td>\n",
              "      <td>0.20</td>\n",
              "      <td>0.0</td>\n",
              "      <td>0.0</td>\n",
              "      <td>Feb</td>\n",
              "      <td>1</td>\n",
              "      <td>1</td>\n",
              "      <td>1</td>\n",
              "      <td>1</td>\n",
              "      <td>Returning_Visitor</td>\n",
              "      <td>False</td>\n",
              "      <td>False</td>\n",
              "    </tr>\n",
              "    <tr>\n",
              "      <th>1</th>\n",
              "      <td>0</td>\n",
              "      <td>0.0</td>\n",
              "      <td>0</td>\n",
              "      <td>0.0</td>\n",
              "      <td>2</td>\n",
              "      <td>64.000000</td>\n",
              "      <td>0.00</td>\n",
              "      <td>0.10</td>\n",
              "      <td>0.0</td>\n",
              "      <td>0.0</td>\n",
              "      <td>Feb</td>\n",
              "      <td>2</td>\n",
              "      <td>2</td>\n",
              "      <td>1</td>\n",
              "      <td>2</td>\n",
              "      <td>Returning_Visitor</td>\n",
              "      <td>False</td>\n",
              "      <td>False</td>\n",
              "    </tr>\n",
              "    <tr>\n",
              "      <th>2</th>\n",
              "      <td>0</td>\n",
              "      <td>0.0</td>\n",
              "      <td>0</td>\n",
              "      <td>0.0</td>\n",
              "      <td>1</td>\n",
              "      <td>0.000000</td>\n",
              "      <td>0.20</td>\n",
              "      <td>0.20</td>\n",
              "      <td>0.0</td>\n",
              "      <td>0.0</td>\n",
              "      <td>Feb</td>\n",
              "      <td>4</td>\n",
              "      <td>1</td>\n",
              "      <td>9</td>\n",
              "      <td>3</td>\n",
              "      <td>Returning_Visitor</td>\n",
              "      <td>False</td>\n",
              "      <td>False</td>\n",
              "    </tr>\n",
              "    <tr>\n",
              "      <th>3</th>\n",
              "      <td>0</td>\n",
              "      <td>0.0</td>\n",
              "      <td>0</td>\n",
              "      <td>0.0</td>\n",
              "      <td>2</td>\n",
              "      <td>2.666667</td>\n",
              "      <td>0.05</td>\n",
              "      <td>0.14</td>\n",
              "      <td>0.0</td>\n",
              "      <td>0.0</td>\n",
              "      <td>Feb</td>\n",
              "      <td>3</td>\n",
              "      <td>2</td>\n",
              "      <td>2</td>\n",
              "      <td>4</td>\n",
              "      <td>Returning_Visitor</td>\n",
              "      <td>False</td>\n",
              "      <td>False</td>\n",
              "    </tr>\n",
              "    <tr>\n",
              "      <th>4</th>\n",
              "      <td>0</td>\n",
              "      <td>0.0</td>\n",
              "      <td>0</td>\n",
              "      <td>0.0</td>\n",
              "      <td>10</td>\n",
              "      <td>627.500000</td>\n",
              "      <td>0.02</td>\n",
              "      <td>0.05</td>\n",
              "      <td>0.0</td>\n",
              "      <td>0.0</td>\n",
              "      <td>Feb</td>\n",
              "      <td>3</td>\n",
              "      <td>3</td>\n",
              "      <td>1</td>\n",
              "      <td>4</td>\n",
              "      <td>Returning_Visitor</td>\n",
              "      <td>True</td>\n",
              "      <td>False</td>\n",
              "    </tr>\n",
              "  </tbody>\n",
              "</table>\n",
              "</div>"
            ],
            "text/plain": [
              "   Administrative  Administrative_Duration  Informational  \\\n",
              "0               0                      0.0              0   \n",
              "1               0                      0.0              0   \n",
              "2               0                      0.0              0   \n",
              "3               0                      0.0              0   \n",
              "4               0                      0.0              0   \n",
              "\n",
              "   Informational_Duration  ProductRelated  ProductRelated_Duration  \\\n",
              "0                     0.0               1                 0.000000   \n",
              "1                     0.0               2                64.000000   \n",
              "2                     0.0               1                 0.000000   \n",
              "3                     0.0               2                 2.666667   \n",
              "4                     0.0              10               627.500000   \n",
              "\n",
              "   BounceRates  ExitRates  PageValues  SpecialDay Month  OperatingSystems  \\\n",
              "0         0.20       0.20         0.0         0.0   Feb                 1   \n",
              "1         0.00       0.10         0.0         0.0   Feb                 2   \n",
              "2         0.20       0.20         0.0         0.0   Feb                 4   \n",
              "3         0.05       0.14         0.0         0.0   Feb                 3   \n",
              "4         0.02       0.05         0.0         0.0   Feb                 3   \n",
              "\n",
              "   Browser  Region  TrafficType        VisitorType  Weekend  Revenue  \n",
              "0        1       1            1  Returning_Visitor    False    False  \n",
              "1        2       1            2  Returning_Visitor    False    False  \n",
              "2        1       9            3  Returning_Visitor    False    False  \n",
              "3        2       2            4  Returning_Visitor    False    False  \n",
              "4        3       1            4  Returning_Visitor     True    False  "
            ]
          },
          "execution_count": 4,
          "metadata": {},
          "output_type": "execute_result"
        }
      ],
      "source": [
        "df = pd.read_csv(\"C:/Users/DELL/Downloads/online_shoppers_intention.csv\")\n",
        "df.head()"
      ]
    },
    {
      "cell_type": "code",
      "execution_count": 5,
      "metadata": {
        "colab": {
          "base_uri": "https://localhost:8080/"
        },
        "id": "0hn2ISkjxeyY",
        "outputId": "16b3e3b8-5545-4bdb-d877-31d73b9dbf12"
      },
      "outputs": [
        {
          "name": "stdout",
          "output_type": "stream",
          "text": [
            "<class 'pandas.core.frame.DataFrame'>\n",
            "RangeIndex: 12330 entries, 0 to 12329\n",
            "Data columns (total 18 columns):\n",
            " #   Column                   Non-Null Count  Dtype  \n",
            "---  ------                   --------------  -----  \n",
            " 0   Administrative           12330 non-null  int64  \n",
            " 1   Administrative_Duration  12330 non-null  float64\n",
            " 2   Informational            12330 non-null  int64  \n",
            " 3   Informational_Duration   12330 non-null  float64\n",
            " 4   ProductRelated           12330 non-null  int64  \n",
            " 5   ProductRelated_Duration  12330 non-null  float64\n",
            " 6   BounceRates              12330 non-null  float64\n",
            " 7   ExitRates                12330 non-null  float64\n",
            " 8   PageValues               12330 non-null  float64\n",
            " 9   SpecialDay               12330 non-null  float64\n",
            " 10  Month                    12330 non-null  object \n",
            " 11  OperatingSystems         12330 non-null  int64  \n",
            " 12  Browser                  12330 non-null  int64  \n",
            " 13  Region                   12330 non-null  int64  \n",
            " 14  TrafficType              12330 non-null  int64  \n",
            " 15  VisitorType              12330 non-null  object \n",
            " 16  Weekend                  12330 non-null  bool   \n",
            " 17  Revenue                  12330 non-null  bool   \n",
            "dtypes: bool(2), float64(7), int64(7), object(2)\n",
            "memory usage: 1.5+ MB\n"
          ]
        }
      ],
      "source": [
        "df.info()"
      ]
    },
    {
      "cell_type": "markdown",
      "metadata": {},
      "source": [
        "Conclusion - Some columns are not interger/float type, so we need to change them into int/float"
      ]
    },
    {
      "cell_type": "markdown",
      "metadata": {},
      "source": [
        "## Data Preprocessing and Transformation"
      ]
    },
    {
      "cell_type": "code",
      "execution_count": 6,
      "metadata": {
        "id": "4IYfpi17xiaD"
      },
      "outputs": [],
      "source": [
        "le = LabelEncoder()\n",
        "df['Month'] = le.fit_transform(df['Month'])\n",
        "df['VisitorType'] = le.fit_transform(df['VisitorType'])\n",
        "df['Weekend'] = df['Weekend'].astype(int)\n",
        "df['Revenue'] = df['Revenue'].astype(int)"
      ]
    },
    {
      "cell_type": "code",
      "execution_count": 7,
      "metadata": {
        "colab": {
          "base_uri": "https://localhost:8080/"
        },
        "id": "drVhZdZJzNxV",
        "outputId": "bd456a59-b8f9-44c9-ee16-9b80c02b7705"
      },
      "outputs": [
        {
          "name": "stdout",
          "output_type": "stream",
          "text": [
            "<class 'pandas.core.frame.DataFrame'>\n",
            "RangeIndex: 12330 entries, 0 to 12329\n",
            "Data columns (total 18 columns):\n",
            " #   Column                   Non-Null Count  Dtype  \n",
            "---  ------                   --------------  -----  \n",
            " 0   Administrative           12330 non-null  int64  \n",
            " 1   Administrative_Duration  12330 non-null  float64\n",
            " 2   Informational            12330 non-null  int64  \n",
            " 3   Informational_Duration   12330 non-null  float64\n",
            " 4   ProductRelated           12330 non-null  int64  \n",
            " 5   ProductRelated_Duration  12330 non-null  float64\n",
            " 6   BounceRates              12330 non-null  float64\n",
            " 7   ExitRates                12330 non-null  float64\n",
            " 8   PageValues               12330 non-null  float64\n",
            " 9   SpecialDay               12330 non-null  float64\n",
            " 10  Month                    12330 non-null  int32  \n",
            " 11  OperatingSystems         12330 non-null  int64  \n",
            " 12  Browser                  12330 non-null  int64  \n",
            " 13  Region                   12330 non-null  int64  \n",
            " 14  TrafficType              12330 non-null  int64  \n",
            " 15  VisitorType              12330 non-null  int32  \n",
            " 16  Weekend                  12330 non-null  int32  \n",
            " 17  Revenue                  12330 non-null  int32  \n",
            "dtypes: float64(7), int32(4), int64(7)\n",
            "memory usage: 1.5 MB\n"
          ]
        }
      ],
      "source": [
        "df.info()"
      ]
    },
    {
      "cell_type": "markdown",
      "metadata": {},
      "source": [
        "Conclusion - All columns now have numerical data types (int, float). Our data is clean and fully prepared for the modeling phase."
      ]
    },
    {
      "cell_type": "code",
      "execution_count": 8,
      "metadata": {
        "colab": {
          "base_uri": "https://localhost:8080/",
          "height": 178
        },
        "id": "RQCqAgepzWwW",
        "outputId": "ebb6d509-9f85-40dc-ec2f-3b5c5210c287"
      },
      "outputs": [
        {
          "data": {
            "text/plain": [
              "Revenue\n",
              "0    10422\n",
              "1     1908\n",
              "Name: count, dtype: int64"
            ]
          },
          "execution_count": 8,
          "metadata": {},
          "output_type": "execute_result"
        }
      ],
      "source": [
        "df['Revenue'].value_counts()"
      ]
    },
    {
      "cell_type": "markdown",
      "metadata": {},
      "source": [
        "Conclusion - The output shows a significant imbalance: 10,422 sessions did not generate revenue (class 0), while only 1,908 did (class 1). This is a common scenario in purchase prediction, and we must be mindful of it, as it can bias our model towards predicting the more common outcome (no purchase)."
      ]
    },
    {
      "cell_type": "markdown",
      "metadata": {},
      "source": [
        "## Data Visualization"
      ]
    },
    {
      "cell_type": "code",
      "execution_count": 9,
      "metadata": {
        "colab": {
          "base_uri": "https://localhost:8080/",
          "height": 466
        },
        "id": "zgHF5nZdzc1u",
        "outputId": "61d5a8a6-a5f7-40a9-c4eb-b94154e97cd7"
      },
      "outputs": [
        {
          "data": {
            "text/plain": [
              "<Axes: xlabel='Month', ylabel='Revenue'>"
            ]
          },
          "execution_count": 9,
          "metadata": {},
          "output_type": "execute_result"
        },
        {
          "data": {
            "image/png": "[encoded data removed]",
            "text/plain": [
              "<Figure size 640x480 with 1 Axes>"
            ]
          },
          "metadata": {},
          "output_type": "display_data"
        }
      ],
      "source": [
        "sns.lineplot(x = df['Month'],y = df['Revenue'])"
      ]
    },
    {
      "cell_type": "markdown",
      "metadata": {},
      "source": [
        "The plot shows fluctuations in revenue generation across different months, suggesting that seasonality might be a factor in a customer's intent to purchase."
      ]
    },
    {
      "cell_type": "code",
      "execution_count": 10,
      "metadata": {
        "colab": {
          "base_uri": "https://localhost:8080/",
          "height": 429
        },
        "id": "e4gQLt-nzqZ3",
        "outputId": "ab6dd67e-9118-44e3-97a1-6bc3f2b52856"
      },
      "outputs": [
        {
          "data": {
            "text/plain": [
              "Month\n",
              "6    3364\n",
              "7    2998\n",
              "5    1907\n",
              "1    1727\n",
              "8     549\n",
              "9     448\n",
              "0     433\n",
              "3     432\n",
              "4     288\n",
              "2     184\n",
              "Name: count, dtype: int64"
            ]
          },
          "execution_count": 10,
          "metadata": {},
          "output_type": "execute_result"
        }
      ],
      "source": [
        "df['Month'].value_counts()"
      ]
    },
    {
      "cell_type": "markdown",
      "metadata": {},
      "source": [
        "## Model Preparation"
      ]
    },
    {
      "cell_type": "code",
      "execution_count": 11,
      "metadata": {
        "id": "J8s0H5gRz_jw"
      },
      "outputs": [],
      "source": [
        "X = df.drop('Revenue',axis = 1)\n",
        "y = df['Revenue']\n",
        "\n",
        "X_train, X_test, y_train, y_test = train_test_split(X,y,stratify = y,test_size = 0.2,random_state = 42)"
      ]
    },
    {
      "cell_type": "markdown",
      "metadata": {},
      "source": [
        "Our features have different scales (e.g., ProductRelated_Duration vs. Month). Algorithms like KNN are sensitive to this. We use StandardScaler to transform our features so they all have a mean of 0 and a standard deviation of 1. We fit the scaler only on the training data to avoid leaking information from the test set into our training process."
      ]
    },
    {
      "cell_type": "code",
      "execution_count": 12,
      "metadata": {
        "id": "107DfmFU00bo"
      },
      "outputs": [],
      "source": [
        "sc = StandardScaler()\n",
        "X_train_sc = sc.fit_transform(X_train)\n",
        "X_test_sc = sc.transform(X_test)"
      ]
    },
    {
      "cell_type": "markdown",
      "metadata": {},
      "source": [
        "## Building and Evaluating Models"
      ]
    },
    {
      "cell_type": "code",
      "execution_count": 13,
      "metadata": {
        "colab": {
          "base_uri": "https://localhost:8080/"
        },
        "id": "X6J99cZT1B-q",
        "outputId": "9c52e55f-32e1-4872-9370-ddee45cb40ce"
      },
      "outputs": [
        {
          "name": "stdout",
          "output_type": "stream",
          "text": [
            "0.8832116788321168\n"
          ]
        }
      ],
      "source": [
        "model = LogisticRegression(max_iter=1000)\n",
        "model.fit(X_train_sc,y_train)\n",
        "y_pred = model.predict(X_test_sc)\n",
        "log_acc = model.score(X_test_sc,y_test)\n",
        "print(log_acc)"
      ]
    },
    {
      "cell_type": "markdown",
      "metadata": {},
      "source": [
        "The model achieves an accuracy of about 88.32%. This gives us a solid benchmark to compare against more complex models like KNN.\n"
      ]
    },
    {
      "cell_type": "code",
      "execution_count": 14,
      "metadata": {
        "colab": {
          "base_uri": "https://localhost:8080/",
          "height": 445
        },
        "id": "4JDlXYnH1m96",
        "outputId": "3037495e-0b31-4267-dde1-e83d76abd469"
      },
      "outputs": [
        {
          "data": {
            "image/png": "[encoded data removed]",
            "text/plain": [
              "<Figure size 1000x500 with 1 Axes>"
            ]
          },
          "metadata": {},
          "output_type": "display_data"
        }
      ],
      "source": [
        "test_score, train_score = [],[]\n",
        "k_range = range(1,61)\n",
        "for k in k_range:\n",
        "    knn = KNeighborsClassifier(n_neighbors=k)\n",
        "    knn.fit(X_train_sc,y_train)\n",
        "    train_score.append(knn.score(X_train_sc,y_train))\n",
        "    test_score.append(knn.score(X_test_sc,y_test))\n",
        "\n",
        "plt.figure(figsize=(10,5))\n",
        "plt.plot(k_range,test_score,label='Testing Accuracy')\n",
        "plt.plot(k_range,train_score,label='Training Accuracy')\n",
        "\n",
        "plt.show()"
      ]
    },
    {
      "cell_type": "markdown",
      "metadata": {},
      "source": [
        "The plot shows that as 'k' increases, the training accuracy decreases while the testing accuracy increases and then stabilizes. A good value for 'k' appears to be around 5, where the testing accuracy is high before it starts to level off. This balances the model between being too simple (overfitting) and too complex (underfitting)."
      ]
    },
    {
      "cell_type": "code",
      "execution_count": 15,
      "metadata": {
        "colab": {
          "base_uri": "https://localhost:8080/"
        },
        "id": "5xLYt5H12IxA",
        "outputId": "0937d8a7-1b65-4cd2-e781-6d40c06835b1"
      },
      "outputs": [
        {
          "data": {
            "text/plain": [
              "0.8796602279943524"
            ]
          },
          "execution_count": 15,
          "metadata": {},
          "output_type": "execute_result"
        }
      ],
      "source": [
        "cv_knn = KNeighborsClassifier(n_neighbors=5)\n",
        "cv_score = cross_val_score(cv_knn,X_train_sc,y_train,cv=10)\n",
        "cv_score.mean()"
      ]
    },
    {
      "cell_type": "markdown",
      "metadata": {},
      "source": [
        "The mean accuracy from cross-validation is about 87.97%. This is a robust measure of how well our model is likely to perform on new, unseen data."
      ]
    },
    {
      "cell_type": "code",
      "execution_count": 16,
      "metadata": {
        "colab": {
          "base_uri": "https://localhost:8080/",
          "height": 430
        },
        "id": "_v_W2Sb64Zaa",
        "outputId": "a667a15f-a079-4ff9-cbbc-3646672f5f83"
      },
      "outputs": [
        {
          "data": {
            "image/png": "[encoded data removed]",
            "text/plain": [
              "<Figure size 640x480 with 1 Axes>"
            ]
          },
          "metadata": {},
          "output_type": "display_data"
        }
      ],
      "source": [
        "sns.boxplot(cv_score,orient='h')\n",
        "plt.grid('True')"
      ]
    },
    {
      "cell_type": "markdown",
      "metadata": {},
      "source": [
        "The box plot shows that the accuracy scores are tightly clustered around the mean of ~88%, indicating that the model's performance is quite stable across different subsets of the data."
      ]
    },
    {
      "cell_type": "markdown",
      "metadata": {},
      "source": [
        "## Advanced Model Experiments"
      ]
    },
    {
      "cell_type": "code",
      "execution_count": 17,
      "metadata": {
        "colab": {
          "base_uri": "https://localhost:8080/"
        },
        "id": "8TiP7tiK3Y3_",
        "outputId": "a2adf9d5-16ca-403a-fc1d-548b2f54cb8c"
      },
      "outputs": [
        {
          "name": "stdout",
          "output_type": "stream",
          "text": [
            "0.8365774533657745\n"
          ]
        }
      ],
      "source": [
        "pca = PCA(n_components=5)\n",
        "X_train_pca = pca.fit_transform(X_train_sc)\n",
        "X_test_pca = pca.transform(X_test_sc)\n",
        "\n",
        "knn_pca = KNeighborsClassifier(n_neighbors=5)\n",
        "knn_pca.fit(X_train_pca,y_train)\n",
        "y_pred_pca = knn_pca.predict(X_test_pca)\n",
        "\n",
        "knn_pca_acc = accuracy_score(y_test,y_pred_pca)\n",
        "print(knn_pca_acc)\n",
        "\n"
      ]
    },
    {
      "cell_type": "markdown",
      "metadata": {},
      "source": [
        "The accuracy with PCA is about 83.66%, which is lower than the accuracy of the model with all features (~88%). This suggests that reducing the dimensions to 5 components resulted in the loss of important information needed for accurate predictions."
      ]
    },
    {
      "cell_type": "code",
      "execution_count": 18,
      "metadata": {
        "colab": {
          "base_uri": "https://localhost:8080/"
        },
        "id": "sAKm7EiG5f_r",
        "outputId": "afc45480-0b53-4ba7-9de6-858ab812712f"
      },
      "outputs": [
        {
          "name": "stdout",
          "output_type": "stream",
          "text": [
            "0.8722627737226277\n"
          ]
        }
      ],
      "source": [
        "X_train_noise = np.hstack([X_train_sc,np.random.rand(X_train_sc.shape[0],10)])\n",
        "X_test_noise = np.hstack([X_test_sc,np.random.rand(X_test_sc.shape[0],10)])\n",
        "\n",
        "knn_ = KNeighborsClassifier(n_neighbors=5)\n",
        "knn_.fit(X_train_noise,y_train)\n",
        "y_pred_noise = knn_.predict(X_test_noise)\n",
        "knn_noise_acc = accuracy_score(y_test,y_pred_noise)\n",
        "print(knn_noise_acc)"
      ]
    },
    {
      "cell_type": "markdown",
      "metadata": {},
      "source": [
        "The accuracy with added noise is about 87.39%, only slightly lower than the original model's accuracy. This shows that KNN is somewhat robust to noise, but irrelevant features can still degrade its performance.\n"
      ]
    },
    {
      "cell_type": "code",
      "execution_count": 19,
      "metadata": {
        "colab": {
          "base_uri": "https://localhost:8080/"
        },
        "id": "gcd8GCYA6u6I",
        "outputId": "54db0834-1d39-4411-c8b9-d038f0426645"
      },
      "outputs": [
        {
          "data": {
            "text/plain": [
              "array([[2042,   42],\n",
              "       [ 246,  136]], dtype=int64)"
            ]
          },
          "execution_count": 19,
          "metadata": {},
          "output_type": "execute_result"
        }
      ],
      "source": [
        "confusion_matrix(y_test, y_pred)"
      ]
    },
    {
      "cell_type": "markdown",
      "metadata": {},
      "source": [
        "The matrix shows the number of true positives, true negatives, false positives, and false negatives. It gives us a clearer picture of where the model is making mistakes, which is more insightful than accuracy alone, especially with our imbalanced dataset."
      ]
    },
    {
      "cell_type": "markdown",
      "metadata": {},
      "source": [
        "## Comparing Multiple Models"
      ]
    },
    {
      "cell_type": "code",
      "execution_count": 20,
      "metadata": {
        "colab": {
          "base_uri": "https://localhost:8080/",
          "height": 156
        },
        "id": "fbfa7b50",
        "outputId": "100bf950-a39d-405d-8ba3-2282986f76c2"
      },
      "outputs": [
        {
          "data": {
            "text/plain": [
              "{'Logistic Regression': {'Accuracy': 0.8832116788321168,\n",
              "  'AUC Score': 0.6679336957723266},\n",
              " 'KNN': {'Accuracy': 0.8678021086780211, 'AUC Score': 0.6662994543316819},\n",
              " 'Decision Tree': {'Accuracy': 0.8572587185725872,\n",
              "  'AUC Score': 0.7338208841233632},\n",
              " 'Random Forest': {'Accuracy': 0.8998377939983779,\n",
              "  'AUC Score': 0.7536679362080575}}"
            ]
          },
          "metadata": {},
          "output_type": "display_data"
        }
      ],
      "source": [
        "model_list = {\n",
        "    'Logistic Regression': LogisticRegression(max_iter=1000),\n",
        "    'KNN': KNeighborsClassifier(),\n",
        "    'Decision Tree': DecisionTreeClassifier(),\n",
        "    'Random Forest': RandomForestClassifier()\n",
        "}\n",
        "model_score = {}\n",
        "\n",
        "for model_name, model in model_list.items():\n",
        "    model.fit(X_train_sc, y_train)\n",
        "    y_pred = model.predict(X_test_sc)\n",
        "    model_score[model_name]={\n",
        "        'Accuracy': accuracy_score(y_test,y_pred),\n",
        "        'AUC Score': roc_auc_score(y_test,y_pred),\n",
        "    }\n",
        "\n",
        "display(model_score)"
      ]
    },
    {
      "cell_type": "markdown",
      "metadata": {},
      "source": [
        "The results show that Random Forest is the top-performing model with the highest accuracy (90.15%) and AUC score (0.76). This is expected, as Random Forest is a powerful ensemble model that often excels in classification tasks by combining the predictions of multiple decision trees."
      ]
    },
    {
      "cell_type": "code",
      "execution_count": 21,
      "metadata": {
        "colab": {
          "base_uri": "https://localhost:8080/"
        },
        "id": "zaaIWrkf8qWH",
        "outputId": "99a73b74-3fbc-4cf2-f3a9-f60ff66f4cbc"
      },
      "outputs": [
        {
          "name": "stdout",
          "output_type": "stream",
          "text": [
            "KNN Project Summary\n",
            "Logistic Regression Accuracy: 0.8832Logistic Regression Accuracy: 0.8832Logistic Regression Accuracy: 0.8832Logistic Regression Accuracy: 0.8832Logistic Regression Accuracy: 0.8832Logistic Regression Accuracy: 0.8832Logistic Regression Accuracy: 0.8832Logistic Regression Accuracy: 0.8832Logistic Regression Accuracy: 0.8832Logistic Regression Accuracy: 0.8832Logistic Regression Accuracy: 0.8832Logistic Regression Accuracy: 0.8832Logistic Regression Accuracy: 0.8832Logistic Regression Accuracy: 0.8832Logistic Regression Accuracy: 0.8832Logistic Regression Accuracy: 0.8832Logistic Regression Accuracy: 0.8832Logistic Regression Accuracy: 0.8832Logistic Regression Accuracy: 0.8832Logistic Regression Accuracy: 0.8832Logistic Regression Accuracy: 0.8832Logistic Regression Accuracy: 0.8832Logistic Regression Accuracy: 0.8832Logistic Regression Accuracy: 0.8832Logistic Regression Accuracy: 0.8832Logistic Regression Accuracy: 0.8832Logistic Regression Accuracy: 0.8832Logistic Regression Accuracy: 0.8832Logistic Regression Accuracy: 0.8832Logistic Regression Accuracy: 0.8832Logistic Regression Accuracy: 0.8832Logistic Regression Accuracy: 0.8832Logistic Regression Accuracy: 0.8832Logistic Regression Accuracy: 0.8832Logistic Regression Accuracy: 0.8832Logistic Regression Accuracy: 0.8832Logistic Regression Accuracy: 0.8832Logistic Regression Accuracy: 0.8832Logistic Regression Accuracy: 0.8832Logistic Regression Accuracy: 0.8832Logistic Regression Accuracy: 0.8832Logistic Regression Accuracy: 0.8832Logistic Regression Accuracy: 0.8832Logistic Regression Accuracy: 0.8832Logistic Regression Accuracy: 0.8832Logistic Regression Accuracy: 0.8832Logistic Regression Accuracy: 0.8832Logistic Regression Accuracy: 0.8832Logistic Regression Accuracy: 0.8832Logistic Regression Accuracy: 0.8832Logistic Regression Accuracy: 0.8832Logistic Regression Accuracy: 0.8832Logistic Regression Accuracy: 0.8832Logistic Regression Accuracy: 0.8832Logistic Regression Accuracy: 0.8832Logistic Regression Accuracy: 0.8832Logistic Regression Accuracy: 0.8832Logistic Regression Accuracy: 0.8832Logistic Regression Accuracy: 0.8832Logistic Regression Accuracy: 0.8832Logistic Regression Accuracy: 0.8832Logistic Regression Accuracy: 0.8832Logistic Regression Accuracy: 0.8832Logistic Regression Accuracy: 0.8832Logistic Regression Accuracy: 0.8832Logistic Regression Accuracy: 0.8832Logistic Regression Accuracy: 0.8832Logistic Regression Accuracy: 0.8832Logistic Regression Accuracy: 0.8832Logistic Regression Accuracy: 0.8832Logistic Regression Accuracy: 0.8832Logistic Regression Accuracy: 0.8832Logistic Regression Accuracy: 0.8832Logistic Regression Accuracy: 0.8832Logistic Regression Accuracy: 0.8832Logistic Regression Accuracy: 0.8832Logistic Regression Accuracy: 0.8832Logistic Regression Accuracy: 0.8832Logistic Regression Accuracy: 0.8832Logistic Regression Accuracy: 0.8832Logistic Regression Accuracy: 0.8832Logistic Regression Accuracy: 0.8832Logistic Regression Accuracy: 0.8832Logistic Regression Accuracy: 0.8832Logistic Regression Accuracy: 0.8832Logistic Regression Accuracy: 0.8832Logistic Regression Accuracy: 0.8832Logistic Regression Accuracy: 0.8832Logistic Regression Accuracy: 0.8832Logistic Regression Accuracy: 0.8832Logistic Regression Accuracy: 0.8832Logistic Regression Accuracy: 0.8832Logistic Regression Accuracy: 0.8832Logistic Regression Accuracy: 0.8832Logistic Regression Accuracy: 0.8832Logistic Regression Accuracy: 0.8832Logistic Regression Accuracy: 0.8832Logistic Regression Accuracy: 0.8832Logistic Regression Accuracy: 0.8832Logistic Regression Accuracy: 0.8832\n",
            "Cross Validation Accuracy: 0.8797\n",
            "PCA and KNN togather: 0.8366\n",
            "Logistic Regression Accuracy: 0.8832\n",
            "Logistic Regression AUC Score: 0.6679\n",
            "KNN Accuracy: 0.8678\n",
            "KNN AUC Score: 0.6663\n",
            "Decision Tree Accuracy: 0.8573\n",
            "Decision Tree AUC Score: 0.7338\n",
            "Random Forest Accuracy: 0.8998\n",
            "Random Forest AUC Score: 0.7537\n"
          ]
        }
      ],
      "source": [
        "print(\"KNN Project Summary\")\n",
        "print('Logistic Regression Accuracy: {:.4f}'.format(log_acc)*100)\n",
        "print('Cross Validation Accuracy: {:.4f}'.format(cv_score.mean()))\n",
        "print('PCA and KNN togather: {:.4f}'.format(knn_pca_acc))\n",
        "\n",
        "for model_name, results in model_score.items():\n",
        "    print(f\"{model_name} Accuracy: {results['Accuracy']:.4f}\")\n",
        "    print(f\"{model_name} AUC Score: {results['AUC Score']:.4f}\")"
      ]
    },
    {
      "cell_type": "markdown",
      "metadata": {},
      "source": [
        "## Handling Class Imbalance with SMOTE"
      ]
    },
    {
      "cell_type": "code",
      "execution_count": 22,
      "metadata": {
        "id": "OMr5nUGL-6ps"
      },
      "outputs": [
        {
          "name": "stdout",
          "output_type": "stream",
          "text": [
            "SMOTE Results:\n",
            "Logistic Regression Accuracy: 0.8686\n",
            "Logistic Regression AUC Score: 0.8057\n",
            "KNN Accuracy: 0.7855\n",
            "KNN AUC Score: 0.7373\n",
            "Decision Tree Accuracy: 0.8560\n",
            "Decision Tree AUC Score: 0.7502\n",
            "Random Forest Accuracy: 0.8881\n",
            "Random Forest AUC Score: 0.8023\n"
          ]
        }
      ],
      "source": [
        "sm = SMOTE(random_state=42)\n",
        "X_train_smote, y_train_smote = sm.fit_resample(X_train_sc, y_train)\n",
        "\n",
        "smote_score = {}\n",
        "for model_name, model in model_list.items():\n",
        "    model.fit(X_train_smote, y_train_smote)\n",
        "    y_pred_smote = model.predict(X_test_sc)\n",
        "    smote_score[model_name] = {\n",
        "        'Accuracy': accuracy_score(y_test, y_pred_smote),\n",
        "        'AUC Score': roc_auc_score(y_test, y_pred_smote),\n",
        "    }\n",
        "print(\"SMOTE Results:\")\n",
        "for model_name, results in smote_score.items():\n",
        "    print(f\"{model_name} Accuracy: {results['Accuracy']:.4f}\")\n",
        "    print(f\"{model_name} AUC Score: {results['AUC Score']:.4f}\")\n"
      ]
    },
    {
      "cell_type": "markdown",
      "metadata": {},
      "source": [
        "## Conclusion\n",
        "This project successfully developed and evaluated several machine learning models to predict online shoppers' purchase intent. The key takeaways are:\n",
        "\n",
        "1. Data Quality and Imbalance: The dataset was clean with no missing values, but it exhibited a significant class imbalance, with far more non-purchase sessions than purchase sessions. This was the primary challenge throughout the project.\n",
        "\n",
        "2. Model Performance: We compared four different models. Random Forest emerged as the top performer with an accuracy of approximately 90.3% and an AUC score of 0.76. K-Nearest Neighbors (KNN) also performed well, achieving a stable accuracy of around 88% with an optimal 'k' value of 5, as confirmed by cross-validation.\n",
        "\n",
        "3. Feature Engineering Insights: Our experiments showed that dimensionality reduction using PCA was not beneficial, as it led to a drop in accuracy to 83.7%. This indicates that the original features contain valuable information that was lost during the reduction. The KNN model also showed reasonable resilience to noisy data.\n",
        "\n",
        "4. Addressing the Core Challenge: While high accuracy scores were achieved, the class imbalance means these figures can be misleading. A model could achieve high accuracy by simply predicting \"no purchase\" most of the time. The project's final step correctly identified this issue and prepared to solve it by implementing SMOTE to create a balanced training set."
      ]
    }
  ],
  "metadata": {
    "colab": {
      "provenance": []
    },
    "kernelspec": {
      "display_name": "base",
      "language": "python",
      "name": "python3"
    },
    "language_info": {
      "codemirror_mode": {
        "name": "ipython",
        "version": 3
      },
      "file_extension": ".py",
      "mimetype": "text/x-python",
      "name": "python",
      "nbconvert_exporter": "python",
      "pygments_lexer": "ipython3",
      "version": "3.12.4"
    }
  },
  "nbformat": 4,
  "nbformat_minor": 0
}
